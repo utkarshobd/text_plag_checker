{
 "cells": [
  {
   "cell_type": "code",
   "execution_count": null,
   "metadata": {},
   "outputs": [
    {
     "name": "stderr",
     "output_type": "stream",
     "text": [
      "[nltk_data] Downloading package punkt to\n",
      "[nltk_data]     C:\\Users\\utkarshh\\AppData\\Roaming\\nltk_data...\n",
      "[nltk_data]   Package punkt is already up-to-date!\n"
     ]
    },
    {
     "name": "stdout",
     "output_type": "stream",
     "text": [
      "\n",
      "Plagiarism Percentage: 100.00%\n"
     ]
    }
   ],
   "source": [
    "import re\n",
    "import nltk\n",
    "from nltk.tokenize import word_tokenize\n",
    "\n",
    "nltk.download('punkt')\n",
    "\n",
    "def preprocess_and_tokenize(paragraph):\n",
    "    cleaned_text = re.sub(r'[^A-Za-z\\s]', '', paragraph).lower()\n",
    "    words = word_tokenize(cleaned_text)\n",
    "    return words\n",
    "\n",
    "def calculate_similarity(paragraph1, paragraph2):\n",
    "    words1 = preprocess_and_tokenize(paragraph1)\n",
    "    words2 = preprocess_and_tokenize(paragraph2)\n",
    "    matching_words = [word for word in words2 if word in words1]\n",
    "    matching_count = len(matching_words)\n",
    "    similarity_percentage = (matching_count / len(words2)) * 100\n",
    "    return similarity_percentage, matching_words\n",
    "\n",
    "# Ensure both inputs are provided\n",
    "while True:\n",
    "    paragraph1 = input(\"Enter the first paragraph: \").strip()\n",
    "    paragraph2 = input(\"Enter the second paragraph: \").strip()\n",
    "\n",
    "    if not paragraph1 or not paragraph2:\n",
    "        print(\"Both paragraphs are required. Please provide valid inputs.\")\n",
    "    else:\n",
    "        break\n",
    "        \n",
    "similarity_percentage, matching_words = calculate_similarity(paragraph1, paragraph2)\n",
    "\n",
    "print(f\"\\nPlagiarism Percentage: {similarity_percentage:.2f}%\")\n"
   ]
  },
  {
   "cell_type": "code",
   "execution_count": 5,
   "metadata": {},
   "outputs": [],
   "source": [
    "import pickle\n",
    "pickle.dump(similarity_percentage, open(\"similarity_percentage.pkl\", \"wb\"))\n",
    "pickle.dump(matching_words, open(\"matching_words.pkl\", \"wb\"))\n"
   ]
  },
  {
   "cell_type": "code",
   "execution_count": null,
   "metadata": {},
   "outputs": [],
   "source": []
  }
 ],
 "metadata": {
  "kernelspec": {
   "display_name": "myenv",
   "language": "python",
   "name": "python3"
  },
  "language_info": {
   "codemirror_mode": {
    "name": "ipython",
    "version": 3
   },
   "file_extension": ".py",
   "mimetype": "text/x-python",
   "name": "python",
   "nbconvert_exporter": "python",
   "pygments_lexer": "ipython3",
   "version": "3.12.9"
  }
 },
 "nbformat": 4,
 "nbformat_minor": 2
}
